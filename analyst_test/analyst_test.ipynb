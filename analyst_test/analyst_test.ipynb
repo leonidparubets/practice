{
 "cells": [
  {
   "cell_type": "code",
   "execution_count": 251,
   "metadata": {},
   "outputs": [],
   "source": [
    "import pandas as pd \n",
    "import numpy as np\n",
    "from scipy.stats import t\n",
    "import seaborn as sns"
   ]
  },
  {
   "cell_type": "code",
   "execution_count": 75,
   "metadata": {},
   "outputs": [
    {
     "data": {
      "text/html": [
       "<div>\n",
       "<style scoped>\n",
       "    .dataframe tbody tr th:only-of-type {\n",
       "        vertical-align: middle;\n",
       "    }\n",
       "\n",
       "    .dataframe tbody tr th {\n",
       "        vertical-align: top;\n",
       "    }\n",
       "\n",
       "    .dataframe thead th {\n",
       "        text-align: right;\n",
       "    }\n",
       "</style>\n",
       "<table border=\"1\" class=\"dataframe\">\n",
       "  <thead>\n",
       "    <tr style=\"text-align: right;\">\n",
       "      <th></th>\n",
       "      <th>timestamp</th>\n",
       "      <th>user_id</th>\n",
       "      <th>event_name</th>\n",
       "      <th>is_trial</th>\n",
       "      <th>price</th>\n",
       "    </tr>\n",
       "  </thead>\n",
       "  <tbody>\n",
       "    <tr>\n",
       "      <th>0</th>\n",
       "      <td>1514754000</td>\n",
       "      <td>59c856ca5638e80001b8bad2</td>\n",
       "      <td>payment</td>\n",
       "      <td>False</td>\n",
       "      <td>2.99</td>\n",
       "    </tr>\n",
       "    <tr>\n",
       "      <th>1</th>\n",
       "      <td>1514755080</td>\n",
       "      <td>32eb44a1-4c44-49e1-8322-253ef00ac52c</td>\n",
       "      <td>payment</td>\n",
       "      <td>True</td>\n",
       "      <td>0.00</td>\n",
       "    </tr>\n",
       "    <tr>\n",
       "      <th>2</th>\n",
       "      <td>1514756460</td>\n",
       "      <td>acfaee6d-abe2-4c8c-a243-98331eb5a736</td>\n",
       "      <td>payment</td>\n",
       "      <td>True</td>\n",
       "      <td>0.00</td>\n",
       "    </tr>\n",
       "    <tr>\n",
       "      <th>3</th>\n",
       "      <td>1514762280</td>\n",
       "      <td>58c2e0bf-6fd6-4f79-bcc1-9c21e2ef0e0a</td>\n",
       "      <td>payment</td>\n",
       "      <td>True</td>\n",
       "      <td>0.00</td>\n",
       "    </tr>\n",
       "    <tr>\n",
       "      <th>4</th>\n",
       "      <td>1514763480</td>\n",
       "      <td>1cd8ccf6-09a0-4dc8-ab9b-786c392ca3e4</td>\n",
       "      <td>payment</td>\n",
       "      <td>True</td>\n",
       "      <td>0.00</td>\n",
       "    </tr>\n",
       "  </tbody>\n",
       "</table>\n",
       "</div>"
      ],
      "text/plain": [
       "    timestamp                               user_id event_name  is_trial  \\\n",
       "0  1514754000              59c856ca5638e80001b8bad2    payment     False   \n",
       "1  1514755080  32eb44a1-4c44-49e1-8322-253ef00ac52c    payment      True   \n",
       "2  1514756460  acfaee6d-abe2-4c8c-a243-98331eb5a736    payment      True   \n",
       "3  1514762280  58c2e0bf-6fd6-4f79-bcc1-9c21e2ef0e0a    payment      True   \n",
       "4  1514763480  1cd8ccf6-09a0-4dc8-ab9b-786c392ca3e4    payment      True   \n",
       "\n",
       "   price  \n",
       "0   2.99  \n",
       "1   0.00  \n",
       "2   0.00  \n",
       "3   0.00  \n",
       "4   0.00  "
      ]
     },
     "execution_count": 75,
     "metadata": {},
     "output_type": "execute_result"
    }
   ],
   "source": [
    "payments = pd.read_csv('payments.csv')\n",
    "payments.head(5)"
   ]
  },
  {
   "cell_type": "code",
   "execution_count": 76,
   "metadata": {},
   "outputs": [
    {
     "data": {
      "text/html": [
       "<div>\n",
       "<style scoped>\n",
       "    .dataframe tbody tr th:only-of-type {\n",
       "        vertical-align: middle;\n",
       "    }\n",
       "\n",
       "    .dataframe tbody tr th {\n",
       "        vertical-align: top;\n",
       "    }\n",
       "\n",
       "    .dataframe thead th {\n",
       "        text-align: right;\n",
       "    }\n",
       "</style>\n",
       "<table border=\"1\" class=\"dataframe\">\n",
       "  <thead>\n",
       "    <tr style=\"text-align: right;\">\n",
       "      <th></th>\n",
       "      <th>timestamp</th>\n",
       "      <th>user_id</th>\n",
       "      <th>test_group</th>\n",
       "      <th>event_name</th>\n",
       "    </tr>\n",
       "  </thead>\n",
       "  <tbody>\n",
       "    <tr>\n",
       "      <th>0</th>\n",
       "      <td>1514768820</td>\n",
       "      <td>ab3a0b4e-6286-4748-90a1-e7d58273594d</td>\n",
       "      <td>05_12FTD_control_group</td>\n",
       "      <td>session start</td>\n",
       "    </tr>\n",
       "    <tr>\n",
       "      <th>1</th>\n",
       "      <td>1514782260</td>\n",
       "      <td>e64698c1-0168-4523-9592-f5226e63b9e6</td>\n",
       "      <td>05_12FTD_control_group</td>\n",
       "      <td>session start</td>\n",
       "    </tr>\n",
       "    <tr>\n",
       "      <th>2</th>\n",
       "      <td>1514811780</td>\n",
       "      <td>a8436498-ca01-4f09-9bac-de1bf217e00e</td>\n",
       "      <td>05_12FTD_control_group</td>\n",
       "      <td>session start</td>\n",
       "    </tr>\n",
       "    <tr>\n",
       "      <th>3</th>\n",
       "      <td>1514831460</td>\n",
       "      <td>6e5830b2-85b7-44b3-b7dd-3cb2e18c2897</td>\n",
       "      <td>05_12FTD_test_group</td>\n",
       "      <td>session start</td>\n",
       "    </tr>\n",
       "    <tr>\n",
       "      <th>4</th>\n",
       "      <td>1514831940</td>\n",
       "      <td>3b1809fe-e495-49e2-a8d1-b888d0a6948e</td>\n",
       "      <td>05_12FTD_control_group</td>\n",
       "      <td>session start</td>\n",
       "    </tr>\n",
       "  </tbody>\n",
       "</table>\n",
       "</div>"
      ],
      "text/plain": [
       "    timestamp                               user_id              test_group  \\\n",
       "0  1514768820  ab3a0b4e-6286-4748-90a1-e7d58273594d  05_12FTD_control_group   \n",
       "1  1514782260  e64698c1-0168-4523-9592-f5226e63b9e6  05_12FTD_control_group   \n",
       "2  1514811780  a8436498-ca01-4f09-9bac-de1bf217e00e  05_12FTD_control_group   \n",
       "3  1514831460  6e5830b2-85b7-44b3-b7dd-3cb2e18c2897     05_12FTD_test_group   \n",
       "4  1514831940  3b1809fe-e495-49e2-a8d1-b888d0a6948e  05_12FTD_control_group   \n",
       "\n",
       "      event_name  \n",
       "0  session start  \n",
       "1  session start  \n",
       "2  session start  \n",
       "3  session start  \n",
       "4  session start  "
      ]
     },
     "execution_count": 76,
     "metadata": {},
     "output_type": "execute_result"
    }
   ],
   "source": [
    "sessions = pd.read_csv('sessions.csv')\n",
    "sessions.head(5)"
   ]
  },
  {
   "cell_type": "markdown",
   "metadata": {},
   "source": [
    "Переименуем колонки для более удобного восприятия"
   ]
  },
  {
   "cell_type": "code",
   "execution_count": 16,
   "metadata": {},
   "outputs": [
    {
     "data": {
      "text/plain": [
       "Index(['#0 timestamp', '#1 user id', '#2 Event name', '#3 is_trial', 'price'], dtype='object')"
      ]
     },
     "execution_count": 16,
     "metadata": {},
     "output_type": "execute_result"
    }
   ],
   "source": [
    "payments.columns"
   ]
  },
  {
   "cell_type": "code",
   "execution_count": 17,
   "metadata": {},
   "outputs": [],
   "source": [
    "payments.columns = ['timestamp', 'user_id', 'event_name', 'is_trial', 'price']"
   ]
  },
  {
   "cell_type": "code",
   "execution_count": 18,
   "metadata": {},
   "outputs": [
    {
     "data": {
      "text/plain": [
       "Index(['#0 timestamp', '#1 user id', '#2 Test group', '#3 Event name'], dtype='object')"
      ]
     },
     "execution_count": 18,
     "metadata": {},
     "output_type": "execute_result"
    }
   ],
   "source": [
    "sessions.columns"
   ]
  },
  {
   "cell_type": "code",
   "execution_count": 19,
   "metadata": {},
   "outputs": [],
   "source": [
    "sessions.columns = ['timestamp', 'user_id', 'test_group', 'event_name']"
   ]
  },
  {
   "cell_type": "markdown",
   "metadata": {},
   "source": [
    "Посмотрим на количество уникальных значения user_id"
   ]
  },
  {
   "cell_type": "code",
   "execution_count": 20,
   "metadata": {},
   "outputs": [
    {
     "data": {
      "text/plain": [
       "2543"
      ]
     },
     "execution_count": 20,
     "metadata": {},
     "output_type": "execute_result"
    }
   ],
   "source": [
    "payments.user_id.nunique()"
   ]
  },
  {
   "cell_type": "code",
   "execution_count": 21,
   "metadata": {},
   "outputs": [
    {
     "data": {
      "text/plain": [
       "2218"
      ]
     },
     "execution_count": 21,
     "metadata": {},
     "output_type": "execute_result"
    }
   ],
   "source": [
    "sessions.user_id.nunique()"
   ]
  },
  {
   "cell_type": "markdown",
   "metadata": {},
   "source": [
    "Cоединим таблицы и удалим дублирующие строки"
   ]
  },
  {
   "cell_type": "code",
   "execution_count": 167,
   "metadata": {},
   "outputs": [
    {
     "data": {
      "text/html": [
       "<div>\n",
       "<style scoped>\n",
       "    .dataframe tbody tr th:only-of-type {\n",
       "        vertical-align: middle;\n",
       "    }\n",
       "\n",
       "    .dataframe tbody tr th {\n",
       "        vertical-align: top;\n",
       "    }\n",
       "\n",
       "    .dataframe thead th {\n",
       "        text-align: right;\n",
       "    }\n",
       "</style>\n",
       "<table border=\"1\" class=\"dataframe\">\n",
       "  <thead>\n",
       "    <tr style=\"text-align: right;\">\n",
       "      <th></th>\n",
       "      <th>timestamp_x</th>\n",
       "      <th>user_id</th>\n",
       "      <th>event_name_x</th>\n",
       "      <th>is_trial</th>\n",
       "      <th>price</th>\n",
       "      <th>timestamp_y</th>\n",
       "      <th>test_group</th>\n",
       "      <th>event_name_y</th>\n",
       "    </tr>\n",
       "  </thead>\n",
       "  <tbody>\n",
       "    <tr>\n",
       "      <th>0</th>\n",
       "      <td>1514754000</td>\n",
       "      <td>59c856ca5638e80001b8bad2</td>\n",
       "      <td>payment</td>\n",
       "      <td>False</td>\n",
       "      <td>2.99</td>\n",
       "      <td>NaN</td>\n",
       "      <td>NaN</td>\n",
       "      <td>NaN</td>\n",
       "    </tr>\n",
       "    <tr>\n",
       "      <th>1</th>\n",
       "      <td>1514755080</td>\n",
       "      <td>32eb44a1-4c44-49e1-8322-253ef00ac52c</td>\n",
       "      <td>payment</td>\n",
       "      <td>True</td>\n",
       "      <td>0.00</td>\n",
       "      <td>NaN</td>\n",
       "      <td>NaN</td>\n",
       "      <td>NaN</td>\n",
       "    </tr>\n",
       "    <tr>\n",
       "      <th>2</th>\n",
       "      <td>1514756460</td>\n",
       "      <td>acfaee6d-abe2-4c8c-a243-98331eb5a736</td>\n",
       "      <td>payment</td>\n",
       "      <td>True</td>\n",
       "      <td>0.00</td>\n",
       "      <td>NaN</td>\n",
       "      <td>NaN</td>\n",
       "      <td>NaN</td>\n",
       "    </tr>\n",
       "    <tr>\n",
       "      <th>3</th>\n",
       "      <td>1514762280</td>\n",
       "      <td>58c2e0bf-6fd6-4f79-bcc1-9c21e2ef0e0a</td>\n",
       "      <td>payment</td>\n",
       "      <td>True</td>\n",
       "      <td>0.00</td>\n",
       "      <td>NaN</td>\n",
       "      <td>NaN</td>\n",
       "      <td>NaN</td>\n",
       "    </tr>\n",
       "    <tr>\n",
       "      <th>4</th>\n",
       "      <td>1514763480</td>\n",
       "      <td>1cd8ccf6-09a0-4dc8-ab9b-786c392ca3e4</td>\n",
       "      <td>payment</td>\n",
       "      <td>True</td>\n",
       "      <td>0.00</td>\n",
       "      <td>NaN</td>\n",
       "      <td>NaN</td>\n",
       "      <td>NaN</td>\n",
       "    </tr>\n",
       "    <tr>\n",
       "      <th>...</th>\n",
       "      <td>...</td>\n",
       "      <td>...</td>\n",
       "      <td>...</td>\n",
       "      <td>...</td>\n",
       "      <td>...</td>\n",
       "      <td>...</td>\n",
       "      <td>...</td>\n",
       "      <td>...</td>\n",
       "    </tr>\n",
       "    <tr>\n",
       "      <th>4260</th>\n",
       "      <td>1517429700</td>\n",
       "      <td>59b60e2b5638e800019776a7</td>\n",
       "      <td>payment</td>\n",
       "      <td>False</td>\n",
       "      <td>2.99</td>\n",
       "      <td>NaN</td>\n",
       "      <td>NaN</td>\n",
       "      <td>NaN</td>\n",
       "    </tr>\n",
       "    <tr>\n",
       "      <th>4261</th>\n",
       "      <td>1517430900</td>\n",
       "      <td>b9e6387f-9a66-4951-b569-6f42185d52c0</td>\n",
       "      <td>payment</td>\n",
       "      <td>True</td>\n",
       "      <td>0.00</td>\n",
       "      <td>NaN</td>\n",
       "      <td>NaN</td>\n",
       "      <td>NaN</td>\n",
       "    </tr>\n",
       "    <tr>\n",
       "      <th>4262</th>\n",
       "      <td>1517431080</td>\n",
       "      <td>80378737-946c-4309-b2ff-bdef513ff815</td>\n",
       "      <td>payment</td>\n",
       "      <td>True</td>\n",
       "      <td>0.00</td>\n",
       "      <td>NaN</td>\n",
       "      <td>NaN</td>\n",
       "      <td>NaN</td>\n",
       "    </tr>\n",
       "    <tr>\n",
       "      <th>4263</th>\n",
       "      <td>1517431200</td>\n",
       "      <td>402e5074-360b-416d-b3fc-d7c29c9ab2c3</td>\n",
       "      <td>payment</td>\n",
       "      <td>False</td>\n",
       "      <td>7.99</td>\n",
       "      <td>NaN</td>\n",
       "      <td>NaN</td>\n",
       "      <td>NaN</td>\n",
       "    </tr>\n",
       "    <tr>\n",
       "      <th>4264</th>\n",
       "      <td>1517431800</td>\n",
       "      <td>0c7888e5-094f-433c-abba-190cd83f5206</td>\n",
       "      <td>payment</td>\n",
       "      <td>False</td>\n",
       "      <td>7.99</td>\n",
       "      <td>NaN</td>\n",
       "      <td>NaN</td>\n",
       "      <td>NaN</td>\n",
       "    </tr>\n",
       "  </tbody>\n",
       "</table>\n",
       "<p>4265 rows × 8 columns</p>\n",
       "</div>"
      ],
      "text/plain": [
       "      timestamp_x                               user_id event_name_x  \\\n",
       "0      1514754000              59c856ca5638e80001b8bad2      payment   \n",
       "1      1514755080  32eb44a1-4c44-49e1-8322-253ef00ac52c      payment   \n",
       "2      1514756460  acfaee6d-abe2-4c8c-a243-98331eb5a736      payment   \n",
       "3      1514762280  58c2e0bf-6fd6-4f79-bcc1-9c21e2ef0e0a      payment   \n",
       "4      1514763480  1cd8ccf6-09a0-4dc8-ab9b-786c392ca3e4      payment   \n",
       "...           ...                                   ...          ...   \n",
       "4260   1517429700              59b60e2b5638e800019776a7      payment   \n",
       "4261   1517430900  b9e6387f-9a66-4951-b569-6f42185d52c0      payment   \n",
       "4262   1517431080  80378737-946c-4309-b2ff-bdef513ff815      payment   \n",
       "4263   1517431200  402e5074-360b-416d-b3fc-d7c29c9ab2c3      payment   \n",
       "4264   1517431800  0c7888e5-094f-433c-abba-190cd83f5206      payment   \n",
       "\n",
       "      is_trial  price  timestamp_y test_group event_name_y  \n",
       "0        False   2.99          NaN        NaN          NaN  \n",
       "1         True   0.00          NaN        NaN          NaN  \n",
       "2         True   0.00          NaN        NaN          NaN  \n",
       "3         True   0.00          NaN        NaN          NaN  \n",
       "4         True   0.00          NaN        NaN          NaN  \n",
       "...        ...    ...          ...        ...          ...  \n",
       "4260     False   2.99          NaN        NaN          NaN  \n",
       "4261      True   0.00          NaN        NaN          NaN  \n",
       "4262      True   0.00          NaN        NaN          NaN  \n",
       "4263     False   7.99          NaN        NaN          NaN  \n",
       "4264     False   7.99          NaN        NaN          NaN  \n",
       "\n",
       "[4265 rows x 8 columns]"
      ]
     },
     "execution_count": 167,
     "metadata": {},
     "output_type": "execute_result"
    }
   ],
   "source": [
    "df = payments.merge(sessions.drop_duplicates(\n",
    "    subset=['user_id'], keep='first'), on=['user_id'], how='left')\n",
    "df"
   ]
  },
  {
   "cell_type": "markdown",
   "metadata": {},
   "source": [
    "Посмотрим на количество пользователей в каждой из групп (тестовая и контрольная)"
   ]
  },
  {
   "cell_type": "code",
   "execution_count": 204,
   "metadata": {},
   "outputs": [
    {
     "data": {
      "text/html": [
       "<div>\n",
       "<style scoped>\n",
       "    .dataframe tbody tr th:only-of-type {\n",
       "        vertical-align: middle;\n",
       "    }\n",
       "\n",
       "    .dataframe tbody tr th {\n",
       "        vertical-align: top;\n",
       "    }\n",
       "\n",
       "    .dataframe thead th {\n",
       "        text-align: right;\n",
       "    }\n",
       "</style>\n",
       "<table border=\"1\" class=\"dataframe\">\n",
       "  <thead>\n",
       "    <tr style=\"text-align: right;\">\n",
       "      <th>test_group</th>\n",
       "      <th>05_12FTD_control_group</th>\n",
       "      <th>05_12FTD_test_group</th>\n",
       "    </tr>\n",
       "  </thead>\n",
       "  <tbody>\n",
       "    <tr>\n",
       "      <th>price</th>\n",
       "      <td>121</td>\n",
       "      <td>118</td>\n",
       "    </tr>\n",
       "  </tbody>\n",
       "</table>\n",
       "</div>"
      ],
      "text/plain": [
       "test_group  05_12FTD_control_group  05_12FTD_test_group\n",
       "price                          121                  118"
      ]
     },
     "execution_count": 204,
     "metadata": {},
     "output_type": "execute_result"
    }
   ],
   "source": [
    "df.pivot_table(columns='test_group', values='price', aggfunc='count')"
   ]
  },
  {
   "cell_type": "code",
   "execution_count": 186,
   "metadata": {},
   "outputs": [
    {
     "data": {
      "text/html": [
       "<div>\n",
       "<style scoped>\n",
       "    .dataframe tbody tr th:only-of-type {\n",
       "        vertical-align: middle;\n",
       "    }\n",
       "\n",
       "    .dataframe tbody tr th {\n",
       "        vertical-align: top;\n",
       "    }\n",
       "\n",
       "    .dataframe thead th {\n",
       "        text-align: right;\n",
       "    }\n",
       "</style>\n",
       "<table border=\"1\" class=\"dataframe\">\n",
       "  <thead>\n",
       "    <tr style=\"text-align: right;\">\n",
       "      <th>test_group</th>\n",
       "      <th>05_12FTD_control_group</th>\n",
       "      <th>05_12FTD_test_group</th>\n",
       "    </tr>\n",
       "  </thead>\n",
       "  <tbody>\n",
       "    <tr>\n",
       "      <th>price</th>\n",
       "      <td>519.35</td>\n",
       "      <td>575.4</td>\n",
       "    </tr>\n",
       "  </tbody>\n",
       "</table>\n",
       "</div>"
      ],
      "text/plain": [
       "test_group  05_12FTD_control_group  05_12FTD_test_group\n",
       "price                       519.35                575.4"
      ]
     },
     "execution_count": 186,
     "metadata": {},
     "output_type": "execute_result"
    }
   ],
   "source": [
    "df.pivot_table(columns='test_group', values='price', aggfunc='sum')"
   ]
  },
  {
   "cell_type": "markdown",
   "metadata": {},
   "source": [
    "Ищем стат значимые различия при помощи графика"
   ]
  },
  {
   "cell_type": "code",
   "execution_count": 199,
   "metadata": {},
   "outputs": [
    {
     "data": {
      "text/plain": [
       "<matplotlib.axes._subplots.AxesSubplot at 0x7ff57985c550>"
      ]
     },
     "execution_count": 199,
     "metadata": {},
     "output_type": "execute_result"
    },
    {
     "data": {
      "image/png": "[encoded data removed]",
      "text/plain": [
       "<Figure size 576x216 with 1 Axes>"
      ]
     },
     "metadata": {
      "needs_background": "light"
     },
     "output_type": "display_data"
    }
   ],
   "source": [
    "fig, ax = plt.subplots(figsize=(8, 3))\n",
    "sns.boxplot(x='test_group', y='price', data=df, ax=ax)"
   ]
  },
  {
   "cell_type": "markdown",
   "metadata": {},
   "source": [
    "#### Выдвигам гипотезу  \n",
    "\n",
    "Т.к. при запуске приложения пользователю предлагают приобрести некоторое количество внутриигровой валюты для открытия последующих история, то выдвинем следующие гипотезы:\n",
    "\n",
    "Hо : средний чек в контрольной группе равен этому же показателю в тестовой группе\n",
    "\n",
    "H1 : средний чек в контрольной группе выше, чем в тестовой\n"
   ]
  },
  {
   "cell_type": "markdown",
   "metadata": {},
   "source": [
    "Проверяем наши гипотезы путем расчета t-статистики и p-value на 5% уровне значимости"
   ]
  },
  {
   "cell_type": "code",
   "execution_count": 220,
   "metadata": {},
   "outputs": [],
   "source": [
    "mean_c = np.array(df[df.test_group == '05_12FTD_control_group'].price).mean()\n",
    "mean_t = np.array(df[df.test_group == '05_12FTD_test_group'].price).mean()\n",
    "std_c = np.array(df[df.test_group == '05_12FTD_control_group'].price).std()\n",
    "std_t = np.array(df[df.test_group == '05_12FTD_test_group'].price).std()"
   ]
  },
  {
   "cell_type": "code",
   "execution_count": 255,
   "metadata": {},
   "outputs": [
    {
     "name": "stdout",
     "output_type": "stream",
     "text": [
      "-0.798\n"
     ]
    }
   ],
   "source": [
    "t_st = (mean_c - mean_t)/np.sqrt((std_c**2)/121 + (std_t**2)/118)\n",
    "print(round(t_st,3))"
   ]
  },
  {
   "cell_type": "code",
   "execution_count": 265,
   "metadata": {},
   "outputs": [
    {
     "data": {
      "text/plain": [
       "0.213"
      ]
     },
     "execution_count": 265,
     "metadata": {},
     "output_type": "execute_result"
    }
   ],
   "source": [
    "round(t.cdf(t_st,237),3)"
   ]
  },
  {
   "cell_type": "markdown",
   "metadata": {},
   "source": [
    "## Вывод:\n",
    "Полученный результат не дает нам возможности отвергнуть Ho в виду недостаточного количества наблюдений"
   ]
  },
  {
   "cell_type": "markdown",
   "metadata": {},
   "source": [
    "P.s. проверил еще гипотезу о количестве покупок (результат вышел аналогичный)"
   ]
  }
 ],
 "metadata": {
  "kernelspec": {
   "display_name": "Python 3",
   "language": "python",
   "name": "python3"
  },
  "language_info": {
   "codemirror_mode": {
    "name": "ipython",
    "version": 3
   },
   "file_extension": ".py",
   "mimetype": "text/x-python",
   "name": "python",
   "nbconvert_exporter": "python",
   "pygments_lexer": "ipython3",
   "version": "3.7.4"
  }
 },
 "nbformat": 4,
 "nbformat_minor": 2
}
